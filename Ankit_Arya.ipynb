{
 "cells": [
  {
   "cell_type": "markdown",
   "id": "908bbf28",
   "metadata": {},
   "source": [
    "# LENDING CLUB CASE"
   ]
  },
  {
   "cell_type": "code",
   "execution_count": null,
   "id": "a1053574",
   "metadata": {},
   "outputs": [],
   "source": [
    "# Importing essential libs and modules for analysis\n",
    "import pandas as pd #To work with dataset\n",
    "import numpy as np #Mathematical operation rich lib\n",
    "import seaborn as sns #Graphical library \n",
    "import matplotlib.pyplot as plt #Used as backbone for seaborn\n",
    "import tk #as suggested due to some technical glitch from matplotlib lib\n",
    "import tkinter #as suggested due to some technical glitch from matplotlib lib\n",
    "import warnings\n",
    "warnings.filterwarnings('ignore')"
   ]
  },
  {
   "cell_type": "code",
   "execution_count": null,
   "id": "e14cd427",
   "metadata": {},
   "outputs": [],
   "source": [
    "# Reading dataset\n",
    "df = pd.read_csv('loan.csv')"
   ]
  },
  {
   "cell_type": "code",
   "execution_count": null,
   "id": "ecfa3c0d",
   "metadata": {},
   "outputs": [],
   "source": [
    "# Checking data for content\n",
    "df.head()"
   ]
  },
  {
   "cell_type": "code",
   "execution_count": null,
   "id": "b5d5fcca",
   "metadata": {},
   "outputs": [],
   "source": [
    "#Reading insights\n",
    "df.describe()"
   ]
  },
  {
   "cell_type": "code",
   "execution_count": null,
   "id": "39ab2bd8",
   "metadata": {},
   "outputs": [],
   "source": [
    "#Dropping Unnecesary Columns \n",
    "columns_droplist = ['delinq_2yrs','earliest_cr_line','inq_last_6mths','open_acc','pub_rec','revol_bal','revol_util','total_acc','out_prncp','out_prncp_inv','total_pymnt','total_pymnt_inv','total_rec_prncp','total_rec_int','total_rec_late_fee','recoveries','collection_recovery_fee','last_pymnt_d','last_pymnt_amnt','last_credit_pull_d','application_type']\n",
    "df.drop(labels = columns_droplist, axis =1, inplace=True)"
   ]
  },
  {
   "cell_type": "code",
   "execution_count": null,
   "id": "6b598c30",
   "metadata": {},
   "outputs": [],
   "source": [
    "#Checking for null values\n",
    "df.isnull().sum()"
   ]
  },
  {
   "cell_type": "code",
   "execution_count": null,
   "id": "b65f47d6",
   "metadata": {},
   "outputs": [],
   "source": [
    "#Deleting columns with null values having more than 85% of null values\n",
    "for col in df.columns:\n",
    "    if df[col].isnull().sum() >= (len(df.index)*85)/100 :\n",
    "        del df[col]\n",
    "    "
   ]
  },
  {
   "cell_type": "code",
   "execution_count": null,
   "id": "07f11796",
   "metadata": {
    "scrolled": true
   },
   "outputs": [],
   "source": [
    "#Checking updated null values\n",
    "df.isnull().sum()"
   ]
  },
  {
   "cell_type": "code",
   "execution_count": null,
   "id": "589fddf5",
   "metadata": {
    "scrolled": true
   },
   "outputs": [],
   "source": [
    "#Check dataset info for dtypes and col number for reference \n",
    "df.info()"
   ]
  },
  {
   "cell_type": "code",
   "execution_count": null,
   "id": "fd97422e",
   "metadata": {
    "scrolled": false
   },
   "outputs": [],
   "source": [
    "#Using dtale for better insights as it's hoghly potent with great functionalities\n",
    "import dtale\n",
    "d = dtale.show(df)\n",
    "d"
   ]
  },
  {
   "cell_type": "markdown",
   "id": "46a4d296",
   "metadata": {},
   "source": [
    "## DATA CLEANING"
   ]
  },
  {
   "cell_type": "markdown",
   "id": "21ba8c86",
   "metadata": {},
   "source": [
    " We see many useful columns have descriptive texts like emp_length, int_rate so we would clean data to make it meaningful"
   ]
  },
  {
   "cell_type": "code",
   "execution_count": null,
   "id": "d8518580",
   "metadata": {},
   "outputs": [],
   "source": [
    "df.emp_length.fillna('0',inplace=True) # Populating null values with 0\n",
    "df['emp_length']=df.emp_length.str.extract('(\\d+)') # Extracting numerical data"
   ]
  },
  {
   "cell_type": "code",
   "execution_count": null,
   "id": "b4e0dff5",
   "metadata": {},
   "outputs": [],
   "source": [
    "df['emp_length'].head() # Results are as expected"
   ]
  },
  {
   "cell_type": "code",
   "execution_count": null,
   "id": "a8215951",
   "metadata": {},
   "outputs": [],
   "source": [
    "# Removing % symbol from relevant columns\n",
    "df['int_rate'] = df['int_rate'].str.rstrip('%')"
   ]
  },
  {
   "cell_type": "code",
   "execution_count": null,
   "id": "c28f6f76",
   "metadata": {},
   "outputs": [],
   "source": [
    "df['int_rate'].head() # Results are as expected"
   ]
  },
  {
   "cell_type": "code",
   "execution_count": null,
   "id": "fdfc92f8",
   "metadata": {},
   "outputs": [],
   "source": [
    "# Type conversion to numeric for columns that are numeric in nature for further analysis\n",
    "\n",
    "cols = ['loan_amnt','funded_amnt','int_rate','funded_amnt_inv','installment','annual_inc','dti','emp_length']\n",
    "df[cols] = df[cols].apply(pd.to_numeric)"
   ]
  },
  {
   "cell_type": "markdown",
   "id": "2e1b57ea",
   "metadata": {},
   "source": [
    " Since we got our data almost ready, let's look what are possible reasons for loans and what chunk do repay loan"
   ]
  },
  {
   "cell_type": "code",
   "execution_count": null,
   "id": "85459835",
   "metadata": {},
   "outputs": [],
   "source": [
    "print((df.loan_status.value_counts()*100)/len(df))\n",
    "print((df.purpose.value_counts()*100)/len(df))"
   ]
  },
  {
   "cell_type": "markdown",
   "id": "73766feb",
   "metadata": {},
   "source": [
    "It tells a lot about loan status\n",
    "We see around 83% of loans are fully paid and 14% are Charged Off which is a lot in practical scenario\n",
    "\n",
    "Major chunk of loan taken is against debt followed by credit "
   ]
  },
  {
   "cell_type": "code",
   "execution_count": null,
   "id": "55bac844",
   "metadata": {},
   "outputs": [],
   "source": [
    "# Segregating loan issuance date data for analysis purpose\n",
    "df.issue_d = pd.to_datetime(df.issue_d, format='%b-%y')\n",
    "df['year']=df['issue_d'].dt.year\n",
    "df['month']=df['issue_d'].dt.month"
   ]
  },
  {
   "cell_type": "code",
   "execution_count": null,
   "id": "17f6a94e",
   "metadata": {},
   "outputs": [],
   "source": [
    "#Term column contains month so exctracting integer values for correlation\n",
    "df['term']=df.term.str.extract('(\\d+)')"
   ]
  },
  {
   "cell_type": "code",
   "execution_count": null,
   "id": "e7920d7c",
   "metadata": {
    "scrolled": true
   },
   "outputs": [],
   "source": [
    "df.head()"
   ]
  },
  {
   "cell_type": "code",
   "execution_count": null,
   "id": "62a113c3",
   "metadata": {},
   "outputs": [],
   "source": [
    "df.columns"
   ]
  },
  {
   "cell_type": "code",
   "execution_count": null,
   "id": "49a303eb",
   "metadata": {},
   "outputs": [],
   "source": [
    "# Now we see that our analysis take place only for charged off and fully paid one's\n",
    "# as current is dynamic so w'll retain only those values\n",
    "\n",
    "loan = df[df.loan_status != \"Current\"]\n",
    "loan.loan_status.unique()"
   ]
  },
  {
   "cell_type": "code",
   "execution_count": null,
   "id": "12c672f7",
   "metadata": {},
   "outputs": [],
   "source": [
    "loan"
   ]
  },
  {
   "cell_type": "markdown",
   "id": "866f34bf",
   "metadata": {},
   "source": [
    "We'll try to visualise some basic data to check for outliers as well as range"
   ]
  },
  {
   "cell_type": "code",
   "execution_count": null,
   "id": "58dc6a30",
   "metadata": {},
   "outputs": [],
   "source": [
    "sns.boxplot(x=loan['loan_amnt'])"
   ]
  },
  {
   "cell_type": "code",
   "execution_count": null,
   "id": "a8887ec1",
   "metadata": {},
   "outputs": [],
   "source": [
    "sns.boxplot(x=loan['annual_inc'])"
   ]
  },
  {
   "cell_type": "code",
   "execution_count": null,
   "id": "eb634e8f",
   "metadata": {},
   "outputs": [],
   "source": [
    "sns.boxplot(x=loan['int_rate'])"
   ]
  },
  {
   "cell_type": "code",
   "execution_count": null,
   "id": "fbb464f9",
   "metadata": {},
   "outputs": [],
   "source": [
    "sns.boxplot(x=loan['funded_amnt_inv'])"
   ]
  },
  {
   "cell_type": "markdown",
   "id": "145ee651",
   "metadata": {},
   "source": [
    "# We observe that there are some outliers in our main columns which are basics of personal wealth and loan amount received\n",
    "We'll treat data further for outliers(if needed) and null values for correlations "
   ]
  },
  {
   "cell_type": "code",
   "execution_count": null,
   "id": "9c9415e0",
   "metadata": {
    "scrolled": true
   },
   "outputs": [],
   "source": [
    "print(loan.loan_amnt.quantile([0.75,0.90,0.95,0.97,0.975, 0.98, 0.99, 1.0]))\n",
    "print(loan.funded_amnt_inv.quantile([0.75,0.90,0.95,0.97,0.975, 0.98, 0.99, 1.0]))\n",
    "print(loan.annual_inc.quantile([0.75,0.90,0.95,0.97,0.975, 0.98, 0.99, 1.0]))"
   ]
  },
  {
   "cell_type": "markdown",
   "id": "93e5fc84",
   "metadata": {},
   "source": [
    "We observe that annual income needs to be treated for outliers "
   ]
  },
  {
   "cell_type": "code",
   "execution_count": null,
   "id": "2becc4fd",
   "metadata": {},
   "outputs": [],
   "source": [
    "new_annual_inc = loan['annual_inc'].quantile(0.95)\n",
    "loan = loan[loan.annual_inc <= new_annual_inc]"
   ]
  },
  {
   "cell_type": "code",
   "execution_count": null,
   "id": "aeffaced",
   "metadata": {},
   "outputs": [],
   "source": [
    "sns.boxplot(x=loan['annual_inc'])"
   ]
  },
  {
   "cell_type": "markdown",
   "id": "5e99730c",
   "metadata": {},
   "source": [
    "Now annual income data seams to be more streamlined"
   ]
  },
  {
   "cell_type": "markdown",
   "id": "c46baae4",
   "metadata": {},
   "source": [
    "# Viasulaizing Bi/Categorical Data for analysis"
   ]
  },
  {
   "cell_type": "code",
   "execution_count": null,
   "id": "92b90272",
   "metadata": {},
   "outputs": [],
   "source": [
    "sns.countplot(x = 'loan_status', data = loan)"
   ]
  },
  {
   "cell_type": "code",
   "execution_count": null,
   "id": "8968a238",
   "metadata": {},
   "outputs": [],
   "source": [
    "#analysisng for home_ownership\n",
    "loan['home_ownership'].unique()"
   ]
  },
  {
   "cell_type": "code",
   "execution_count": null,
   "id": "4068355a",
   "metadata": {},
   "outputs": [],
   "source": [
    "sum(loan['home_ownership'] == 'NONE')"
   ]
  },
  {
   "cell_type": "code",
   "execution_count": null,
   "id": "f7ea2f00",
   "metadata": {},
   "outputs": [],
   "source": [
    "#replacing 'NONE' with 'OTHERS'\n",
    "loan['home_ownership'].replace(to_replace = ['NONE'],value='OTHER',inplace = True)"
   ]
  },
  {
   "cell_type": "code",
   "execution_count": null,
   "id": "bca781ea",
   "metadata": {},
   "outputs": [],
   "source": [
    "sns.countplot(x = 'home_ownership', data = loan)"
   ]
  },
  {
   "cell_type": "code",
   "execution_count": null,
   "id": "0dae209d",
   "metadata": {},
   "outputs": [],
   "source": [
    "sns.countplot(x = 'home_ownership',data=loan[loan['loan_status']=='Charged Off'])\n",
    "# Checking for Charged Off customers    "
   ]
  },
  {
   "cell_type": "code",
   "execution_count": null,
   "id": "d69290f7",
   "metadata": {},
   "outputs": [],
   "source": [
    "sns.countplot(x = 'verification_status',data=loan[loan['loan_status']=='Charged Off'])"
   ]
  },
  {
   "cell_type": "code",
   "execution_count": null,
   "id": "945db7db",
   "metadata": {},
   "outputs": [],
   "source": [
    "sns.countplot(x = 'term',data=loan[loan['loan_status']=='Charged Off'])"
   ]
  },
  {
   "cell_type": "code",
   "execution_count": null,
   "id": "22feffa1",
   "metadata": {},
   "outputs": [],
   "source": [
    "#Checking if funded amount/annual_income & ROI have any observations regarding defaulters\n",
    "loan['funded_amnt_inv_bins'] = pd.cut(loan['funded_amnt_inv'], bins=7,labels=['0-5k','5k-10k','10k-15k','15k-20k','20k-25k','25k-30k','30k-35k']) \n",
    "sns.countplot(x = 'funded_amnt_inv_bins',data=loan[loan['loan_status']=='Charged Off'])"
   ]
  },
  {
   "cell_type": "code",
   "execution_count": null,
   "id": "e37ac401",
   "metadata": {},
   "outputs": [],
   "source": [
    "loan['annual_inc_bins'] = pd.cut(loan['annual_inc'], bins=6,precision =0,labels =['5k-30k','31k-55k','56k-80k','81k-105k','106k-130k','130k-200k'])\n",
    "sns.countplot(x = 'annual_inc_bins',data=loan[loan['loan_status']=='Charged Off'])"
   ]
  },
  {
   "cell_type": "code",
   "execution_count": null,
   "id": "d4767bbc",
   "metadata": {},
   "outputs": [],
   "source": [
    "loan['int_rate_bins'] = pd.cut(loan['int_rate'], bins=4,precision =0,labels=['5%-10%','10%-15%','15%-20%','20%-25%'])\n",
    "sns.countplot(x = 'int_rate_bins',data=loan[loan['loan_status']=='Charged Off'])"
   ]
  },
  {
   "cell_type": "code",
   "execution_count": null,
   "id": "c1eb2e74",
   "metadata": {},
   "outputs": [],
   "source": []
  },
  {
   "cell_type": "code",
   "execution_count": null,
   "id": "027f5ef4",
   "metadata": {},
   "outputs": [],
   "source": [
    "fig, ax = plt.subplots(figsize = (25,8))\n",
    "sns.countplot(x = 'purpose',data=loan[loan['loan_status']=='Charged Off'])\n",
    "# Checking for Charged Off customers\n",
    "# using matplot as sns fig size was small to give clear picture"
   ]
  },
  {
   "cell_type": "code",
   "execution_count": null,
   "id": "bc95564f",
   "metadata": {},
   "outputs": [],
   "source": [
    "fig, axes = plt.subplots(1, 2, figsize=(15, 15))\n",
    "sns.countplot(x='month', data=loan[loan['loan_status']=='Charged Off'],ax=axes[0])\n",
    "sns.countplot(x='year', data=loan[loan['loan_status']=='Charged Off'])"
   ]
  },
  {
   "cell_type": "code",
   "execution_count": null,
   "id": "6f99065d",
   "metadata": {},
   "outputs": [],
   "source": [
    "#Since it is observed that 2011 saw a spike so analysing monthwise for that year to see any discrepancies\n",
    "sns.countplot(x='month', data=loan[(loan['loan_status']=='Charged Off') & (loan['year']==2011)])"
   ]
  },
  {
   "cell_type": "markdown",
   "id": "5037de2d",
   "metadata": {},
   "source": [
    "# There are solid observations that can be made with these visualisations alone but for broader aspect we'll create bins and analyse data"
   ]
  },
  {
   "cell_type": "code",
   "execution_count": null,
   "id": "47aab6dd",
   "metadata": {},
   "outputs": [],
   "source": [
    "loan.corr().style.background_gradient(cmap=\"Blues\")"
   ]
  },
  {
   "cell_type": "markdown",
   "id": "a734189d",
   "metadata": {},
   "source": [
    "At this point correlations doesn't yield very fruitful results since we've already analysed most of columns\n",
    "however there's still some things that we can some up"
   ]
  },
  {
   "cell_type": "markdown",
   "id": "2ee4ba31",
   "metadata": {},
   "source": [
    "# SUMMARISING OUR OBSERVATIONS"
   ]
  },
  {
   "cell_type": "markdown",
   "id": "c4dc698c",
   "metadata": {},
   "source": [
    "# Defaulters can be pre-identified if\n",
    "\n",
    "House_ownership is categorised as 'RENT'\n",
    "\n",
    "If apllied loan to clear other debts\n",
    "\n",
    "If ROI for loan provided falls under 10-15%\n",
    "\n",
    "Income range of applicants fall under 31K - 55K\n",
    "\n",
    "Term of 36 months\n",
    "\n",
    "Loan sanctioned ranges between 5K-10K\n",
    "\n",
    "Loans are being sanctioned in month of December \n",
    "\n",
    "Status of loan is Not verified\n",
    "\n",
    "Purpose stated is 'debt_consolidation'\n"
   ]
  }
 ],
 "metadata": {
  "kernelspec": {
   "display_name": "Python 3 (ipykernel)",
   "language": "python",
   "name": "python3"
  },
  "language_info": {
   "codemirror_mode": {
    "name": "ipython",
    "version": 3
   },
   "file_extension": ".py",
   "mimetype": "text/x-python",
   "name": "python",
   "nbconvert_exporter": "python",
   "pygments_lexer": "ipython3",
   "version": "3.8.3"
  }
 },
 "nbformat": 4,
 "nbformat_minor": 5
}
