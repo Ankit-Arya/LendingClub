{
 "cells": [
  {
   "cell_type": "markdown",
   "id": "b57c2403",
   "metadata": {},
   "source": [
    "# LENDING CLUB CASE"
   ]
  },
  {
   "cell_type": "code",
   "execution_count": null,
   "id": "cc156a49",
   "metadata": {},
   "outputs": [],
   "source": [
    "# Importing essential libs and modules for analysis\n",
    "import pandas as pd #To work with dataset\n",
    "import numpy as np #Mathematical operation rich lib\n",
    "import seaborn as sns #Graphical library \n",
    "import matplotlib.pyplot as plt #Used as backbone for seaborn"
   ]
  },
  {
   "cell_type": "code",
   "execution_count": null,
   "id": "f855e91a",
   "metadata": {},
   "outputs": [],
   "source": [
    "# Reading dataset\n",
    "df = pd.read_csv('loan.csv')"
   ]
  },
  {
   "cell_type": "code",
   "execution_count": null,
   "id": "33fa8a05",
   "metadata": {},
   "outputs": [],
   "source": [
    "# Checking data for content\n",
    "df.head(10)"
   ]
  },
  {
   "cell_type": "code",
   "execution_count": null,
   "id": "175a5f0f",
   "metadata": {},
   "outputs": [],
   "source": [
    "#Reading insights\n",
    "df.describe()"
   ]
  },
  {
   "cell_type": "code",
   "execution_count": null,
   "id": "f5d54461",
   "metadata": {},
   "outputs": [],
   "source": [
    "#Checking for null values\n",
    "df.isnull().sum()"
   ]
  },
  {
   "cell_type": "code",
   "execution_count": null,
   "id": "26799cd6",
   "metadata": {},
   "outputs": [],
   "source": [
    "#Deleting columns with null values having more than 85% of null values\n",
    "for col in df.columns:\n",
    "    if df[col].isnull().sum() >= (len(df.index)*85)/100 :\n",
    "        del df[col]\n",
    "    "
   ]
  },
  {
   "cell_type": "code",
   "execution_count": null,
   "id": "fab1d48d",
   "metadata": {},
   "outputs": [],
   "source": [
    "#Checking updated null values\n",
    "df.isnull().sum()"
   ]
  },
  {
   "cell_type": "code",
   "execution_count": null,
   "id": "b93f8217",
   "metadata": {},
   "outputs": [],
   "source": [
    "#Check dataset info for dtypes and col number for reference \n",
    "df.info()"
   ]
  },
  {
   "cell_type": "code",
   "execution_count": null,
   "id": "852664e7",
   "metadata": {
    "scrolled": false
   },
   "outputs": [],
   "source": [
    "#Using dtale for better insights as it's hoghly potent with great functionalities\n",
    "import dtale\n",
    "d = dtale.show(df)\n",
    "d"
   ]
  },
  {
   "cell_type": "code",
   "execution_count": null,
   "id": "71613292",
   "metadata": {},
   "outputs": [],
   "source": []
  }
 ],
 "metadata": {
  "kernelspec": {
   "display_name": "Python 3 (ipykernel)",
   "language": "python",
   "name": "python3"
  },
  "language_info": {
   "codemirror_mode": {
    "name": "ipython",
    "version": 3
   },
   "file_extension": ".py",
   "mimetype": "text/x-python",
   "name": "python",
   "nbconvert_exporter": "python",
   "pygments_lexer": "ipython3",
   "version": "3.8.3"
  }
 },
 "nbformat": 4,
 "nbformat_minor": 5
}
